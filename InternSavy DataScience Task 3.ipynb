{
 "cells": [
  {
   "cell_type": "markdown",
   "metadata": {
    "id": "wU56DwDcWob1"
   },
   "source": [
    "#     Task -3 -- Customer Segmentation Analysis With Python\n",
    "(Market Basket Analysis)\n",
    "---\n",
    "\n",
    "\n",
    "\n",
    "---\n",
    "\n",
    "\n"
   ]
  },
  {
   "cell_type": "code",
   "execution_count": 1,
   "metadata": {
    "id": "fKlLqfCfQQaD"
   },
   "outputs": [],
   "source": [
    "# Importing neecessary libraries\n",
    "import pandas as pd\n",
    "import numpy as np\n",
    "import matplotlib.pyplot as plt\n",
    "%matplotlib inline"
   ]
  },
  {
   "cell_type": "code",
   "execution_count": 2,
   "metadata": {
    "id": "iIB5xIfsZTPj"
   },
   "outputs": [],
   "source": [
    "# Loading of dataset into data frame\n",
    "mar=pd.read_csv(\"Mall_Customers.csv\")"
   ]
  },
  {
   "cell_type": "markdown",
   "metadata": {
    "id": "gQ5ibs4cWm__"
   },
   "source": [
    "## Exploratory Data Analysis - EDA"
   ]
  },
  {
   "cell_type": "code",
   "execution_count": 3,
   "metadata": {
    "colab": {
     "base_uri": "https://localhost:8080/"
    },
    "id": "jS-JDy0MZ9lZ",
    "outputId": "aed12302-733b-407a-9428-eb6320c3eb3c"
   },
   "outputs": [
    {
     "name": "stdout",
     "output_type": "stream",
     "text": [
      "<class 'pandas.core.frame.DataFrame'>\n",
      "RangeIndex: 200 entries, 0 to 199\n",
      "Data columns (total 5 columns):\n",
      " #   Column                  Non-Null Count  Dtype \n",
      "---  ------                  --------------  ----- \n",
      " 0   CustomerID              200 non-null    int64 \n",
      " 1   Genre                   200 non-null    object\n",
      " 2   Age                     200 non-null    int64 \n",
      " 3   Annual Income (k$)      200 non-null    int64 \n",
      " 4   Spending Score (1-100)  200 non-null    int64 \n",
      "dtypes: int64(4), object(1)\n",
      "memory usage: 7.9+ KB\n"
     ]
    }
   ],
   "source": [
    "# Displays the information or summary about dataframe\n",
    "mar.info()"
   ]
  },
  {
   "cell_type": "code",
   "execution_count": 4,
   "metadata": {
    "colab": {
     "base_uri": "https://localhost:8080/",
     "height": 206
    },
    "id": "mkhUMIeFaIS7",
    "outputId": "35173d2e-c8eb-4e28-f691-e253f666f4d5"
   },
   "outputs": [
    {
     "data": {
      "text/html": [
       "<div>\n",
       "<style scoped>\n",
       "    .dataframe tbody tr th:only-of-type {\n",
       "        vertical-align: middle;\n",
       "    }\n",
       "\n",
       "    .dataframe tbody tr th {\n",
       "        vertical-align: top;\n",
       "    }\n",
       "\n",
       "    .dataframe thead th {\n",
       "        text-align: right;\n",
       "    }\n",
       "</style>\n",
       "<table border=\"1\" class=\"dataframe\">\n",
       "  <thead>\n",
       "    <tr style=\"text-align: right;\">\n",
       "      <th></th>\n",
       "      <th>CustomerID</th>\n",
       "      <th>Genre</th>\n",
       "      <th>Age</th>\n",
       "      <th>Annual Income (k$)</th>\n",
       "      <th>Spending Score (1-100)</th>\n",
       "    </tr>\n",
       "  </thead>\n",
       "  <tbody>\n",
       "    <tr>\n",
       "      <th>0</th>\n",
       "      <td>1</td>\n",
       "      <td>Male</td>\n",
       "      <td>19</td>\n",
       "      <td>15</td>\n",
       "      <td>39</td>\n",
       "    </tr>\n",
       "    <tr>\n",
       "      <th>1</th>\n",
       "      <td>2</td>\n",
       "      <td>Male</td>\n",
       "      <td>21</td>\n",
       "      <td>15</td>\n",
       "      <td>81</td>\n",
       "    </tr>\n",
       "    <tr>\n",
       "      <th>2</th>\n",
       "      <td>3</td>\n",
       "      <td>Female</td>\n",
       "      <td>20</td>\n",
       "      <td>16</td>\n",
       "      <td>6</td>\n",
       "    </tr>\n",
       "    <tr>\n",
       "      <th>3</th>\n",
       "      <td>4</td>\n",
       "      <td>Female</td>\n",
       "      <td>23</td>\n",
       "      <td>16</td>\n",
       "      <td>77</td>\n",
       "    </tr>\n",
       "    <tr>\n",
       "      <th>4</th>\n",
       "      <td>5</td>\n",
       "      <td>Female</td>\n",
       "      <td>31</td>\n",
       "      <td>17</td>\n",
       "      <td>40</td>\n",
       "    </tr>\n",
       "  </tbody>\n",
       "</table>\n",
       "</div>"
      ],
      "text/plain": [
       "   CustomerID   Genre  Age  Annual Income (k$)  Spending Score (1-100)\n",
       "0           1    Male   19                  15                      39\n",
       "1           2    Male   21                  15                      81\n",
       "2           3  Female   20                  16                       6\n",
       "3           4  Female   23                  16                      77\n",
       "4           5  Female   31                  17                      40"
      ]
     },
     "execution_count": 4,
     "metadata": {},
     "output_type": "execute_result"
    }
   ],
   "source": [
    "# Displays first 5 records in the data frame\n",
    "mar.head()"
   ]
  },
  {
   "cell_type": "code",
   "execution_count": 5,
   "metadata": {
    "colab": {
     "base_uri": "https://localhost:8080/",
     "height": 206
    },
    "id": "-FyHPZUfaWQi",
    "outputId": "dceee843-8f82-4a3b-a120-d3c49f59bc7d"
   },
   "outputs": [
    {
     "data": {
      "text/html": [
       "<div>\n",
       "<style scoped>\n",
       "    .dataframe tbody tr th:only-of-type {\n",
       "        vertical-align: middle;\n",
       "    }\n",
       "\n",
       "    .dataframe tbody tr th {\n",
       "        vertical-align: top;\n",
       "    }\n",
       "\n",
       "    .dataframe thead th {\n",
       "        text-align: right;\n",
       "    }\n",
       "</style>\n",
       "<table border=\"1\" class=\"dataframe\">\n",
       "  <thead>\n",
       "    <tr style=\"text-align: right;\">\n",
       "      <th></th>\n",
       "      <th>CustomerID</th>\n",
       "      <th>Genre</th>\n",
       "      <th>Age</th>\n",
       "      <th>Annual Income (k$)</th>\n",
       "      <th>Spending Score (1-100)</th>\n",
       "    </tr>\n",
       "  </thead>\n",
       "  <tbody>\n",
       "    <tr>\n",
       "      <th>195</th>\n",
       "      <td>196</td>\n",
       "      <td>Female</td>\n",
       "      <td>35</td>\n",
       "      <td>120</td>\n",
       "      <td>79</td>\n",
       "    </tr>\n",
       "    <tr>\n",
       "      <th>196</th>\n",
       "      <td>197</td>\n",
       "      <td>Female</td>\n",
       "      <td>45</td>\n",
       "      <td>126</td>\n",
       "      <td>28</td>\n",
       "    </tr>\n",
       "    <tr>\n",
       "      <th>197</th>\n",
       "      <td>198</td>\n",
       "      <td>Male</td>\n",
       "      <td>32</td>\n",
       "      <td>126</td>\n",
       "      <td>74</td>\n",
       "    </tr>\n",
       "    <tr>\n",
       "      <th>198</th>\n",
       "      <td>199</td>\n",
       "      <td>Male</td>\n",
       "      <td>32</td>\n",
       "      <td>137</td>\n",
       "      <td>18</td>\n",
       "    </tr>\n",
       "    <tr>\n",
       "      <th>199</th>\n",
       "      <td>200</td>\n",
       "      <td>Male</td>\n",
       "      <td>30</td>\n",
       "      <td>137</td>\n",
       "      <td>83</td>\n",
       "    </tr>\n",
       "  </tbody>\n",
       "</table>\n",
       "</div>"
      ],
      "text/plain": [
       "     CustomerID   Genre  Age  Annual Income (k$)  Spending Score (1-100)\n",
       "195         196  Female   35                 120                      79\n",
       "196         197  Female   45                 126                      28\n",
       "197         198    Male   32                 126                      74\n",
       "198         199    Male   32                 137                      18\n",
       "199         200    Male   30                 137                      83"
      ]
     },
     "execution_count": 5,
     "metadata": {},
     "output_type": "execute_result"
    }
   ],
   "source": [
    "# Displays the last 5 records of data\n",
    "mar.tail()"
   ]
  },
  {
   "cell_type": "code",
   "execution_count": 6,
   "metadata": {
    "colab": {
     "base_uri": "https://localhost:8080/"
    },
    "id": "FsG0XCWSbo4c",
    "outputId": "6cf5d736-60aa-4d80-cd09-d5ca0ed70a96"
   },
   "outputs": [
    {
     "data": {
      "text/plain": [
       "(200, 5)"
      ]
     },
     "execution_count": 6,
     "metadata": {},
     "output_type": "execute_result"
    }
   ],
   "source": [
    "# Displays the total number of records and columns\n",
    "mar.shape"
   ]
  },
  {
   "cell_type": "code",
   "execution_count": 7,
   "metadata": {
    "colab": {
     "base_uri": "https://localhost:8080/"
    },
    "id": "yP4qpE0qahXY",
    "outputId": "f14e6d85-2b4c-44d7-efbb-8487ed4cf4fd"
   },
   "outputs": [
    {
     "data": {
      "text/plain": [
       "Index(['CustomerID', 'Genre', 'Age', 'Annual Income (k$)',\n",
       "       'Spending Score (1-100)'],\n",
       "      dtype='object')"
      ]
     },
     "execution_count": 7,
     "metadata": {},
     "output_type": "execute_result"
    }
   ],
   "source": [
    "# Displays the columns present in the data frame\n",
    "mar.columns"
   ]
  },
  {
   "cell_type": "code",
   "execution_count": 8,
   "metadata": {
    "colab": {
     "base_uri": "https://localhost:8080/"
    },
    "id": "U9YcfY2Ua_na",
    "outputId": "494a8ac2-96fb-4926-e38b-26c0b2d08219"
   },
   "outputs": [
    {
     "data": {
      "text/plain": [
       "CustomerID                 int64\n",
       "Genre                     object\n",
       "Age                        int64\n",
       "Annual Income (k$)         int64\n",
       "Spending Score (1-100)     int64\n",
       "dtype: object"
      ]
     },
     "execution_count": 8,
     "metadata": {},
     "output_type": "execute_result"
    }
   ],
   "source": [
    "# Displays data types of each and every column\n",
    "mar.dtypes"
   ]
  },
  {
   "cell_type": "code",
   "execution_count": 9,
   "metadata": {
    "id": "-aXF8jg6bKjN"
   },
   "outputs": [],
   "source": [
    "# Dropping Customer Id column as it is unnecessary\n",
    "mar=mar.drop(columns='CustomerID',axis=1)"
   ]
  },
  {
   "cell_type": "code",
   "execution_count": 10,
   "metadata": {
    "colab": {
     "base_uri": "https://localhost:8080/"
    },
    "id": "iwpEvNrBbbfJ",
    "outputId": "9b482907-8dc0-4741-8bef-df96870db6d2"
   },
   "outputs": [
    {
     "name": "stdout",
     "output_type": "stream",
     "text": [
      "      Genre  Age  Annual Income (k$)  Spending Score (1-100)\n",
      "0      Male   19                  15                      39\n",
      "1      Male   21                  15                      81\n",
      "2    Female   20                  16                       6\n",
      "3    Female   23                  16                      77\n",
      "4    Female   31                  17                      40\n",
      "..      ...  ...                 ...                     ...\n",
      "195  Female   35                 120                      79\n",
      "196  Female   45                 126                      28\n",
      "197    Male   32                 126                      74\n",
      "198    Male   32                 137                      18\n",
      "199    Male   30                 137                      83\n",
      "\n",
      "[200 rows x 4 columns]\n"
     ]
    }
   ],
   "source": [
    "# Confirming whether the customerId column is dropped or not\n",
    "print(mar)"
   ]
  },
  {
   "cell_type": "code",
   "execution_count": 11,
   "metadata": {
    "colab": {
     "base_uri": "https://localhost:8080/"
    },
    "id": "dpn3uSFmblTG",
    "outputId": "d216777f-af71-4d1a-f489-cf09eb0eac0c"
   },
   "outputs": [
    {
     "data": {
      "text/plain": [
       "(200, 4)"
      ]
     },
     "execution_count": 11,
     "metadata": {},
     "output_type": "execute_result"
    }
   ],
   "source": [
    "mar.shape"
   ]
  },
  {
   "cell_type": "markdown",
   "metadata": {
    "id": "jgeNW5Jhb7sd"
   },
   "source": [
    "### Missing Values"
   ]
  },
  {
   "cell_type": "code",
   "execution_count": 12,
   "metadata": {
    "colab": {
     "base_uri": "https://localhost:8080/"
    },
    "id": "hJcZqZRpb4GA",
    "outputId": "b2799774-6b6e-4467-dc74-c5241698a7c6"
   },
   "outputs": [
    {
     "data": {
      "text/plain": [
       "Genre                     0\n",
       "Age                       0\n",
       "Annual Income (k$)        0\n",
       "Spending Score (1-100)    0\n",
       "dtype: int64"
      ]
     },
     "execution_count": 12,
     "metadata": {},
     "output_type": "execute_result"
    }
   ],
   "source": [
    "# Displays the totalnumber of missing values if present\n",
    "mar.isnull().sum()"
   ]
  },
  {
   "cell_type": "markdown",
   "metadata": {
    "id": "RbntLVircMTe"
   },
   "source": [
    "<--------No Missing values found in the data frame -------->"
   ]
  },
  {
   "cell_type": "markdown",
   "metadata": {
    "id": "CgusmkEGcVRA"
   },
   "source": [
    "## Outlier Analysis"
   ]
  },
  {
   "cell_type": "code",
   "execution_count": 13,
   "metadata": {
    "id": "OUoA5LYG1n0R"
   },
   "outputs": [],
   "source": [
    "mar1=mar.copy()"
   ]
  },
  {
   "cell_type": "code",
   "execution_count": 14,
   "metadata": {
    "colab": {
     "base_uri": "https://localhost:8080/",
     "height": 447
    },
    "id": "LFANQyGNegmI",
    "outputId": "8fbfe906-87bc-48aa-b22b-3876bfeb8bd7"
   },
   "outputs": [
    {
     "data": {
      "text/plain": [
       "<AxesSubplot:>"
      ]
     },
     "execution_count": 14,
     "metadata": {},
     "output_type": "execute_result"
    },
    {
     "data": {
      "image/png": "[encoded data removed]",
      "text/plain": [
       "<Figure size 640x480 with 1 Axes>"
      ]
     },
     "metadata": {},
     "output_type": "display_data"
    }
   ],
   "source": [
    "# Boxplot for outlier visualization\n",
    "mar1.boxplot(column=['Annual Income (k$)','Spending Score (1-100)'])"
   ]
  },
  {
   "cell_type": "markdown",
   "metadata": {
    "id": "5cCCdFvMxD-6"
   },
   "source": [
    "<--------- Annual Income contains outliers----------->"
   ]
  },
  {
   "cell_type": "code",
   "execution_count": 15,
   "metadata": {
    "colab": {
     "base_uri": "https://localhost:8080/"
    },
    "id": "_rjDWUsNcIa9",
    "outputId": "5962c96a-9af6-4bde-e72f-c9d2343f4244"
   },
   "outputs": [
    {
     "name": "stdout",
     "output_type": "stream",
     "text": [
      "Age                       28.75\n",
      "Annual Income (k$)        41.50\n",
      "Spending Score (1-100)    34.75\n",
      "Name: 0.25, dtype: float64 Age                       36.0\n",
      "Annual Income (k$)        61.5\n",
      "Spending Score (1-100)    50.0\n",
      "Name: 0.5, dtype: float64 Age                       49.0\n",
      "Annual Income (k$)        78.0\n",
      "Spending Score (1-100)    73.0\n",
      "Name: 0.75, dtype: float64\n"
     ]
    }
   ],
   "source": [
    "Q1=mar1.quantile(0.25)\n",
    "Q2=mar1.quantile(0.50)\n",
    "Q3=mar1.quantile(0.75)\n",
    "print(Q1,Q2,Q3)"
   ]
  },
  {
   "cell_type": "code",
   "execution_count": 16,
   "metadata": {
    "colab": {
     "base_uri": "https://localhost:8080/"
    },
    "id": "5ItkRajfcu8U",
    "outputId": "8d620830-7795-40a9-f71d-ae86f12232c9"
   },
   "outputs": [
    {
     "name": "stdout",
     "output_type": "stream",
     "text": [
      "Age                       20.25\n",
      "Annual Income (k$)        36.50\n",
      "Spending Score (1-100)    38.25\n",
      "dtype: float64\n"
     ]
    }
   ],
   "source": [
    "# Interquartile Range\n",
    "iqr=Q3-Q1\n",
    "print(iqr)"
   ]
  },
  {
   "cell_type": "code",
   "execution_count": 17,
   "metadata": {
    "id": "oC_5diLJdPMV"
   },
   "outputs": [],
   "source": [
    "# Outlier Detection\n",
    "lower_bound=Q1-(1.5*iqr)\n",
    "upper_bound=Q3+(1.5*iqr)"
   ]
  },
  {
   "cell_type": "code",
   "execution_count": 18,
   "metadata": {
    "colab": {
     "base_uri": "https://localhost:8080/"
    },
    "id": "HVUvRgiawcJS",
    "outputId": "1d0de09d-238b-484a-c533-5e500ce7f41c"
   },
   "outputs": [
    {
     "name": "stdout",
     "output_type": "stream",
     "text": [
      "       Age  Annual Income (k$)  Genre  Spending Score (1-100)\n",
      "0    False               False  False                   False\n",
      "1    False               False  False                   False\n",
      "2    False               False  False                   False\n",
      "3    False               False  False                   False\n",
      "4    False               False  False                   False\n",
      "..     ...                 ...    ...                     ...\n",
      "195  False               False  False                   False\n",
      "196  False               False  False                   False\n",
      "197  False               False  False                   False\n",
      "198  False                True  False                   False\n",
      "199  False                True  False                   False\n",
      "\n",
      "[200 rows x 4 columns]\n"
     ]
    },
    {
     "name": "stderr",
     "output_type": "stream",
     "text": [
      "C:\\Users\\ashit\\AppData\\Local\\Temp\\ipykernel_13792\\1913998301.py:1: FutureWarning: Automatic reindexing on DataFrame vs Series comparisons is deprecated and will raise ValueError in a future version. Do `left, right = left.align(right, axis=1, copy=False)` before e.g. `left == right`\n",
      "  out=((mar1<lower_bound)|(mar1>upper_bound))\n"
     ]
    }
   ],
   "source": [
    "out=((mar1<lower_bound)|(mar1>upper_bound))\n",
    "print(out)"
   ]
  },
  {
   "cell_type": "markdown",
   "metadata": {
    "id": "lzDDsUIfxMxa"
   },
   "source": [
    "<------It is understood that Annual Income has 2 outliers ------->"
   ]
  },
  {
   "cell_type": "code",
   "execution_count": 19,
   "metadata": {
    "colab": {
     "base_uri": "https://localhost:8080/"
    },
    "id": "m41niuaAwboL",
    "outputId": "936bb42c-c5e9-47e8-f7b6-dfcccae8cb26"
   },
   "outputs": [
    {
     "name": "stdout",
     "output_type": "stream",
     "text": [
      "    Genre  Age  Annual Income (k$)  Spending Score (1-100)\n",
      "198  Male   32                 137                      18\n",
      "199  Male   30                 137                      83\n"
     ]
    }
   ],
   "source": [
    "# To find out rows with atleat 1 outlier\n",
    "out_rows=out.any(axis=1)\n",
    "\n",
    "# Display the rows with at least one outlier\n",
    "out_data=mar1[out_rows]\n",
    "print(out_data)"
   ]
  },
  {
   "cell_type": "code",
   "execution_count": 20,
   "metadata": {
    "colab": {
     "base_uri": "https://localhost:8080/"
    },
    "id": "DJGRAx7XzZ3b",
    "outputId": "cc44204c-2ea0-4fb3-e027-5a1010d0a3d2"
   },
   "outputs": [
    {
     "name": "stdout",
     "output_type": "stream",
     "text": [
      "      Genre  Age  Annual Income (k$)  Spending Score (1-100)\n",
      "0      Male   19                  15                      39\n",
      "1      Male   21                  15                      81\n",
      "2    Female   20                  16                       6\n",
      "3    Female   23                  16                      77\n",
      "4    Female   31                  17                      40\n",
      "..      ...  ...                 ...                     ...\n",
      "193  Female   38                 113                      91\n",
      "194  Female   47                 120                      16\n",
      "195  Female   35                 120                      79\n",
      "196  Female   45                 126                      28\n",
      "197    Male   32                 126                      74\n",
      "\n",
      "[198 rows x 4 columns]\n"
     ]
    }
   ],
   "source": [
    "# Removal of ouliers\n",
    "no_out=mar1[~out.any(axis=1)]\n",
    "print(no_out)"
   ]
  },
  {
   "cell_type": "code",
   "execution_count": 21,
   "metadata": {
    "colab": {
     "base_uri": "https://localhost:8080/"
    },
    "id": "CeZYom170kz8",
    "outputId": "ab2e2454-362a-4f87-85ad-d3ec21541e82"
   },
   "outputs": [
    {
     "name": "stdout",
     "output_type": "stream",
     "text": [
      "      Genre  Age  Annual Income (k$)  Spending Score (1-100)\n",
      "0      Male   19                  15                      39\n",
      "1      Male   21                  15                      81\n",
      "2    Female   20                  16                       6\n",
      "3    Female   23                  16                      77\n",
      "4    Female   31                  17                      40\n",
      "..      ...  ...                 ...                     ...\n",
      "193  Female   38                 113                      91\n",
      "194  Female   47                 120                      16\n",
      "195  Female   35                 120                      79\n",
      "196  Female   45                 126                      28\n",
      "197    Male   32                 126                      74\n",
      "\n",
      "[198 rows x 4 columns]\n"
     ]
    }
   ],
   "source": [
    "# Copying back to the original data frame\n",
    "mar=no_out.copy()\n",
    "print(mar)"
   ]
  },
  {
   "cell_type": "markdown",
   "metadata": {
    "id": "uo0RUe_o3Tp3"
   },
   "source": [
    "## Univariate Analysis"
   ]
  },
  {
   "cell_type": "markdown",
   "metadata": {
    "id": "d3V7Op9m3w-l"
   },
   "source": [
    "### Annual Income"
   ]
  },
  {
   "cell_type": "code",
   "execution_count": 22,
   "metadata": {
    "colab": {
     "base_uri": "https://localhost:8080/",
     "height": 472
    },
    "id": "3BmAcA8k3QuN",
    "outputId": "fdf30182-ae01-4800-f80b-2f78b9ce2f35"
   },
   "outputs": [
    {
     "data": {
      "image/png": "[encoded data removed]",
      "text/plain": [
       "<Figure size 640x480 with 1 Axes>"
      ]
     },
     "metadata": {},
     "output_type": "display_data"
    }
   ],
   "source": [
    "plt.hist(mar['Annual Income (k$)'],bins=10,color='green',alpha=0.1)\n",
    "plt.xlabel(\"Annual Income\")\n",
    "plt.ylabel(\"Frequency\")\n",
    "plt.title(\"Distribution of Annual Income\")\n",
    "plt.show()"
   ]
  },
  {
   "cell_type": "code",
   "execution_count": 23,
   "metadata": {
    "colab": {
     "base_uri": "https://localhost:8080/"
    },
    "id": "g59LedD16l6g",
    "outputId": "5565bb65-d838-4545-84fc-4c6f0e803a0c"
   },
   "outputs": [
    {
     "data": {
      "text/plain": [
       "count    198.000000\n",
       "mean      59.787879\n",
       "std       25.237259\n",
       "min       15.000000\n",
       "25%       40.500000\n",
       "50%       61.000000\n",
       "75%       77.750000\n",
       "max      126.000000\n",
       "Name: Annual Income (k$), dtype: float64"
      ]
     },
     "execution_count": 23,
     "metadata": {},
     "output_type": "execute_result"
    }
   ],
   "source": [
    "mar['Annual Income (k$)'].describe()"
   ]
  },
  {
   "cell_type": "markdown",
   "metadata": {
    "id": "BeSbSe9Z9QqE"
   },
   "source": [
    "### Age"
   ]
  },
  {
   "cell_type": "code",
   "execution_count": 24,
   "metadata": {
    "colab": {
     "base_uri": "https://localhost:8080/",
     "height": 472
    },
    "id": "VDKo_IG17rRT",
    "outputId": "0786b20e-a007-478a-9dfa-6f5a24f5395f"
   },
   "outputs": [
    {
     "data": {
      "image/png": "[encoded data removed]",
      "text/plain": [
       "<Figure size 640x480 with 1 Axes>"
      ]
     },
     "metadata": {},
     "output_type": "display_data"
    }
   ],
   "source": [
    "plt.hist(mar['Age'],color=\"green\",bins=20)\n",
    "plt.xlabel(\"Age\")\n",
    "plt.ylabel(\"Frequency\")\n",
    "plt.title(\"Distribution of Age\")\n",
    "plt.show()"
   ]
  },
  {
   "cell_type": "markdown",
   "metadata": {
    "id": "5jSnclLH_gDD"
   },
   "source": [
    "<----- The genre column is actually wrongly spelled------>"
   ]
  },
  {
   "cell_type": "code",
   "execution_count": 25,
   "metadata": {
    "id": "G52xjSEd_TYB"
   },
   "outputs": [],
   "source": [
    "# Renaming Genre to Gender\n",
    "mar['Gender']=mar['Genre']"
   ]
  },
  {
   "cell_type": "code",
   "execution_count": 26,
   "metadata": {
    "colab": {
     "base_uri": "https://localhost:8080/"
    },
    "id": "DeRicnfE_0Np",
    "outputId": "d0cfece1-0c43-4927-8586-3040d573ff17"
   },
   "outputs": [
    {
     "name": "stdout",
     "output_type": "stream",
     "text": [
      "      Genre  Age  Annual Income (k$)  Spending Score (1-100)  Gender\n",
      "0      Male   19                  15                      39    Male\n",
      "1      Male   21                  15                      81    Male\n",
      "2    Female   20                  16                       6  Female\n",
      "3    Female   23                  16                      77  Female\n",
      "4    Female   31                  17                      40  Female\n",
      "..      ...  ...                 ...                     ...     ...\n",
      "193  Female   38                 113                      91  Female\n",
      "194  Female   47                 120                      16  Female\n",
      "195  Female   35                 120                      79  Female\n",
      "196  Female   45                 126                      28  Female\n",
      "197    Male   32                 126                      74    Male\n",
      "\n",
      "[198 rows x 5 columns]\n"
     ]
    }
   ],
   "source": [
    "print(mar)"
   ]
  },
  {
   "cell_type": "code",
   "execution_count": 27,
   "metadata": {
    "colab": {
     "base_uri": "https://localhost:8080/"
    },
    "id": "duhCKAPo_3n1",
    "outputId": "71ec0c99-690b-4f2c-da9a-0b46fc03a7fa"
   },
   "outputs": [
    {
     "name": "stdout",
     "output_type": "stream",
     "text": [
      "     Age  Annual Income (k$)  Spending Score (1-100)  Gender\n",
      "0     19                  15                      39    Male\n",
      "1     21                  15                      81    Male\n",
      "2     20                  16                       6  Female\n",
      "3     23                  16                      77  Female\n",
      "4     31                  17                      40  Female\n",
      "..   ...                 ...                     ...     ...\n",
      "193   38                 113                      91  Female\n",
      "194   47                 120                      16  Female\n",
      "195   35                 120                      79  Female\n",
      "196   45                 126                      28  Female\n",
      "197   32                 126                      74    Male\n",
      "\n",
      "[198 rows x 4 columns]\n"
     ]
    }
   ],
   "source": [
    "# Dropping of Genre column\n",
    "mar=mar.drop(columns='Genre',axis=1)\n",
    "print(mar)"
   ]
  },
  {
   "cell_type": "code",
   "execution_count": null,
   "metadata": {
    "id": "UyzqoEgKANw_"
   },
   "outputs": [],
   "source": []
  },
  {
   "cell_type": "code",
   "execution_count": 28,
   "metadata": {
    "colab": {
     "base_uri": "https://localhost:8080/"
    },
    "id": "lxV_sUtwAtUi",
    "outputId": "664bb52d-445e-48f6-aaa7-3943fac6933c"
   },
   "outputs": [
    {
     "data": {
      "text/plain": [
       "Female    112\n",
       "Male       86\n",
       "Name: Gender, dtype: int64"
      ]
     },
     "execution_count": 28,
     "metadata": {},
     "output_type": "execute_result"
    }
   ],
   "source": [
    "mar['Gender'].value_counts()"
   ]
  },
  {
   "cell_type": "code",
   "execution_count": 29,
   "metadata": {
    "colab": {
     "base_uri": "https://localhost:8080/"
    },
    "id": "l15Q0YJZGOlS",
    "outputId": "048a7f87-a38a-4380-d236-e127c02572d3"
   },
   "outputs": [
    {
     "data": {
      "text/plain": [
       "Index(['Age', 'Annual Income (k$)', 'Spending Score (1-100)', 'Gender'], dtype='object')"
      ]
     },
     "execution_count": 29,
     "metadata": {},
     "output_type": "execute_result"
    }
   ],
   "source": [
    "mar.columns"
   ]
  },
  {
   "cell_type": "code",
   "execution_count": 30,
   "metadata": {
    "colab": {
     "base_uri": "https://localhost:8080/"
    },
    "id": "YCOS3qWeBams",
    "outputId": "578c5406-0d03-49b0-feb9-f8332e33061a"
   },
   "outputs": [
    {
     "name": "stdout",
     "output_type": "stream",
     "text": [
      "[[ 15  39]\n",
      " [ 15  81]\n",
      " [ 16   6]\n",
      " [ 16  77]\n",
      " [ 17  40]\n",
      " [ 17  76]\n",
      " [ 18   6]\n",
      " [ 18  94]\n",
      " [ 19   3]\n",
      " [ 19  72]\n",
      " [ 19  14]\n",
      " [ 19  99]\n",
      " [ 20  15]\n",
      " [ 20  77]\n",
      " [ 20  13]\n",
      " [ 20  79]\n",
      " [ 21  35]\n",
      " [ 21  66]\n",
      " [ 23  29]\n",
      " [ 23  98]\n",
      " [ 24  35]\n",
      " [ 24  73]\n",
      " [ 25   5]\n",
      " [ 25  73]\n",
      " [ 28  14]\n",
      " [ 28  82]\n",
      " [ 28  32]\n",
      " [ 28  61]\n",
      " [ 29  31]\n",
      " [ 29  87]\n",
      " [ 30   4]\n",
      " [ 30  73]\n",
      " [ 33   4]\n",
      " [ 33  92]\n",
      " [ 33  14]\n",
      " [ 33  81]\n",
      " [ 34  17]\n",
      " [ 34  73]\n",
      " [ 37  26]\n",
      " [ 37  75]\n",
      " [ 38  35]\n",
      " [ 38  92]\n",
      " [ 39  36]\n",
      " [ 39  61]\n",
      " [ 39  28]\n",
      " [ 39  65]\n",
      " [ 40  55]\n",
      " [ 40  47]\n",
      " [ 40  42]\n",
      " [ 40  42]\n",
      " [ 42  52]\n",
      " [ 42  60]\n",
      " [ 43  54]\n",
      " [ 43  60]\n",
      " [ 43  45]\n",
      " [ 43  41]\n",
      " [ 44  50]\n",
      " [ 44  46]\n",
      " [ 46  51]\n",
      " [ 46  46]\n",
      " [ 46  56]\n",
      " [ 46  55]\n",
      " [ 47  52]\n",
      " [ 47  59]\n",
      " [ 48  51]\n",
      " [ 48  59]\n",
      " [ 48  50]\n",
      " [ 48  48]\n",
      " [ 48  59]\n",
      " [ 48  47]\n",
      " [ 49  55]\n",
      " [ 49  42]\n",
      " [ 50  49]\n",
      " [ 50  56]\n",
      " [ 54  47]\n",
      " [ 54  54]\n",
      " [ 54  53]\n",
      " [ 54  48]\n",
      " [ 54  52]\n",
      " [ 54  42]\n",
      " [ 54  51]\n",
      " [ 54  55]\n",
      " [ 54  41]\n",
      " [ 54  44]\n",
      " [ 54  57]\n",
      " [ 54  46]\n",
      " [ 57  58]\n",
      " [ 57  55]\n",
      " [ 58  60]\n",
      " [ 58  46]\n",
      " [ 59  55]\n",
      " [ 59  41]\n",
      " [ 60  49]\n",
      " [ 60  40]\n",
      " [ 60  42]\n",
      " [ 60  52]\n",
      " [ 60  47]\n",
      " [ 60  50]\n",
      " [ 61  42]\n",
      " [ 61  49]\n",
      " [ 62  41]\n",
      " [ 62  48]\n",
      " [ 62  59]\n",
      " [ 62  55]\n",
      " [ 62  56]\n",
      " [ 62  42]\n",
      " [ 63  50]\n",
      " [ 63  46]\n",
      " [ 63  43]\n",
      " [ 63  48]\n",
      " [ 63  52]\n",
      " [ 63  54]\n",
      " [ 64  42]\n",
      " [ 64  46]\n",
      " [ 65  48]\n",
      " [ 65  50]\n",
      " [ 65  43]\n",
      " [ 65  59]\n",
      " [ 67  43]\n",
      " [ 67  57]\n",
      " [ 67  56]\n",
      " [ 67  40]\n",
      " [ 69  58]\n",
      " [ 69  91]\n",
      " [ 70  29]\n",
      " [ 70  77]\n",
      " [ 71  35]\n",
      " [ 71  95]\n",
      " [ 71  11]\n",
      " [ 71  75]\n",
      " [ 71   9]\n",
      " [ 71  75]\n",
      " [ 72  34]\n",
      " [ 72  71]\n",
      " [ 73   5]\n",
      " [ 73  88]\n",
      " [ 73   7]\n",
      " [ 73  73]\n",
      " [ 74  10]\n",
      " [ 74  72]\n",
      " [ 75   5]\n",
      " [ 75  93]\n",
      " [ 76  40]\n",
      " [ 76  87]\n",
      " [ 77  12]\n",
      " [ 77  97]\n",
      " [ 77  36]\n",
      " [ 77  74]\n",
      " [ 78  22]\n",
      " [ 78  90]\n",
      " [ 78  17]\n",
      " [ 78  88]\n",
      " [ 78  20]\n",
      " [ 78  76]\n",
      " [ 78  16]\n",
      " [ 78  89]\n",
      " [ 78   1]\n",
      " [ 78  78]\n",
      " [ 78   1]\n",
      " [ 78  73]\n",
      " [ 79  35]\n",
      " [ 79  83]\n",
      " [ 81   5]\n",
      " [ 81  93]\n",
      " [ 85  26]\n",
      " [ 85  75]\n",
      " [ 86  20]\n",
      " [ 86  95]\n",
      " [ 87  27]\n",
      " [ 87  63]\n",
      " [ 87  13]\n",
      " [ 87  75]\n",
      " [ 87  10]\n",
      " [ 87  92]\n",
      " [ 88  13]\n",
      " [ 88  86]\n",
      " [ 88  15]\n",
      " [ 88  69]\n",
      " [ 93  14]\n",
      " [ 93  90]\n",
      " [ 97  32]\n",
      " [ 97  86]\n",
      " [ 98  15]\n",
      " [ 98  88]\n",
      " [ 99  39]\n",
      " [ 99  97]\n",
      " [101  24]\n",
      " [101  68]\n",
      " [103  17]\n",
      " [103  85]\n",
      " [103  23]\n",
      " [103  69]\n",
      " [113   8]\n",
      " [113  91]\n",
      " [120  16]\n",
      " [120  79]\n",
      " [126  28]\n",
      " [126  74]]\n"
     ]
    }
   ],
   "source": [
    "#For column extraction\n",
    "X=mar.iloc[:,[1,2]].values\n",
    "\n",
    "print(X)"
   ]
  },
  {
   "cell_type": "markdown",
   "metadata": {
    "id": "iBx6bzfNI5F3"
   },
   "source": [
    "## Elbow method for finding Optimal No. of Clusters"
   ]
  },
  {
   "cell_type": "code",
   "execution_count": 31,
   "metadata": {
    "id": "uge_2vcuG67n"
   },
   "outputs": [],
   "source": [
    "# Importing necessary libraries for modelling\n",
    "from sklearn.cluster import KMeans\n"
   ]
  },
  {
   "cell_type": "code",
   "execution_count": 32,
   "metadata": {
    "id": "4Koxqu80UYPV"
   },
   "outputs": [],
   "source": [
    "X = mar[['Annual Income (k$)', 'Spending Score (1-100)']]\n",
    "wcss=[]\n",
    "# Within Clusters sum of squares"
   ]
  },
  {
   "cell_type": "code",
   "execution_count": 33,
   "metadata": {
    "colab": {
     "base_uri": "https://localhost:8080/"
    },
    "id": "Tm9smp5uKSoQ",
    "outputId": "55c695d4-c4d3-4400-dfe5-48973382b064"
   },
   "outputs": [
    {
     "name": "stderr",
     "output_type": "stream",
     "text": [
      "C:\\Users\\ashit\\anaconda3\\lib\\site-packages\\sklearn\\cluster\\_kmeans.py:1036: UserWarning: KMeans is known to have a memory leak on Windows with MKL, when there are less chunks than available threads. You can avoid it by setting the environment variable OMP_NUM_THREADS=1.\n",
      "  warnings.warn(\n"
     ]
    }
   ],
   "source": [
    "# For finding optimal values of Elbow method\n",
    "for i in range(1,11):\n",
    "  kmeans=KMeans(n_clusters=i,init='k-means++',random_state=42)\n",
    "  kmeans.fit(X)\n",
    "  wcss.append(kmeans.inertia_)\n",
    "  # For seggregation of data into clusters"
   ]
  },
  {
   "cell_type": "code",
   "execution_count": 34,
   "metadata": {
    "colab": {
     "base_uri": "https://localhost:8080/",
     "height": 472
    },
    "id": "oHxATacpMaH_",
    "outputId": "b2e80fb8-1824-4551-bc20-27736d3285cc"
   },
   "outputs": [
    {
     "data": {
      "image/png": "[encoded data removed]",
      "text/plain": [
       "<Figure size 640x480 with 1 Axes>"
      ]
     },
     "metadata": {},
     "output_type": "display_data"
    }
   ],
   "source": [
    "# Visualization of Elbow method\n",
    "plt.plot(range(1, 11), wcss)\n",
    "plt.xlabel(\"No of Clusters\")\n",
    "plt.ylabel(\"WCSS Values\")\n",
    "plt.title(\"The Elbow Method\")\n",
    "plt.show()"
   ]
  },
  {
   "cell_type": "markdown",
   "metadata": {
    "id": "GRtvua2lbOcC"
   },
   "source": [
    "<-------K=5------>"
   ]
  },
  {
   "cell_type": "markdown",
   "metadata": {
    "id": "doyiDaZ8bSii"
   },
   "source": [
    "## Modelling Using KMeans Clustering"
   ]
  },
  {
   "cell_type": "code",
   "execution_count": 35,
   "metadata": {
    "id": "zt6JBf2kbKut"
   },
   "outputs": [],
   "source": [
    "model=KMeans(n_clusters=5, init=\"k-means++\",random_state=0)"
   ]
  },
  {
   "cell_type": "code",
   "execution_count": 36,
   "metadata": {
    "colab": {
     "base_uri": "https://localhost:8080/"
    },
    "id": "ddnxpvYfenKD",
    "outputId": "b4d5aa05-5a24-42af-9a1e-a21e90e0ab28"
   },
   "outputs": [],
   "source": [
    "y_kmeans=model.fit_predict(X)"
   ]
  },
  {
   "cell_type": "code",
   "execution_count": 37,
   "metadata": {
    "id": "Z9-_1wYei-Y4"
   },
   "outputs": [],
   "source": [
    "# Converting X into numpy array\n",
    "X = np.array(X)"
   ]
  },
  {
   "cell_type": "code",
   "execution_count": 38,
   "metadata": {
    "colab": {
     "base_uri": "https://localhost:8080/",
     "height": 472
    },
    "id": "eXOSrGVEZsKX",
    "outputId": "3c88baa7-09e6-42e3-9d17-4ad3bf02ff8e"
   },
   "outputs": [
    {
     "data": {
      "image/png": "[encoded data removed]",
      "text/plain": [
       "<Figure size 640x480 with 1 Axes>"
      ]
     },
     "metadata": {},
     "output_type": "display_data"
    }
   ],
   "source": [
    "plt.scatter(X[y_kmeans==0,0], X[y_kmeans==0,1], c=\"green\",label=\"Customer 1\",s=90)\n",
    "plt.scatter(X[y_kmeans== 1,0], X[y_kmeans==1,1], c=\"yellow\",label=\"Customer 2\",s=90)\n",
    "plt.scatter(X[y_kmeans==2,0], X[y_kmeans==2,1], c=\"black\",label=\"Customer 3\",s=90)\n",
    "plt.scatter(X[y_kmeans== 3,0], X[y_kmeans==3,1],c =\"red\",label=\"Customer 4\",s=90)\n",
    "plt.scatter(X[y_kmeans== 4,0], X[y_kmeans==4,1],c=\"orange\",label=\"Customer 5\",s=90)\n",
    "plt.scatter(kmeans.cluster_centers_[: ,0], kmeans.cluster_centers_[: ,1], s=100,c=\"magenta\",label=\"Centroids\") # For centroids\n",
    "plt.title(\"Clusters of Customers\")\n",
    "plt.xlabel('Annual Income (k$)')\n",
    "plt.ylabel('Spending Score (1-100)')\n",
    "plt.legend()\n",
    "plt.show()"
   ]
  },
  {
   "cell_type": "markdown",
   "metadata": {
    "id": "qmp0e7X3lGbV"
   },
   "source": [
    "<-----------------Insights---------->\n",
    "\n",
    "*    Customer 1 are considered as target customers as their Annual Income and Spending score are quite good,Will also consider other customers as well.\n",
    "*    Customer 2 has high Annual Salary but less Spending Score\n",
    "*    Customer 3 has less Annual Income but high spending score\n",
    "\n"
   ]
  }
 ],
 "metadata": {
  "colab": {
   "authorship_tag": "ABX9TyMNgKqsFHVOfRsheaNuc6Ka",
   "include_colab_link": true,
   "provenance": []
  },
  "kernelspec": {
   "display_name": "Python 3 (ipykernel)",
   "language": "python",
   "name": "python3"
  },
  "language_info": {
   "codemirror_mode": {
    "name": "ipython",
    "version": 3
   },
   "file_extension": ".py",
   "mimetype": "text/x-python",
   "name": "python",
   "nbconvert_exporter": "python",
   "pygments_lexer": "ipython3",
   "version": "3.9.13"
  }
 },
 "nbformat": 4,
 "nbformat_minor": 1
}
